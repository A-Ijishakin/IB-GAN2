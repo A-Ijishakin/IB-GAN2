{
 "cells": [
  {
   "cell_type": "code",
   "execution_count": 33,
   "metadata": {},
   "outputs": [
    {
     "data": {
      "text/plain": [
       "{'name': 'cdsprites_opt2',\n",
       " 'scores': {5000: {'score': 0.27375,\n",
       "   'classifier_decision': ['0', 'x', 'x', 'x', 'x', '4', 'x', 'x', 'x', '3']},\n",
       "  10000: {'score': 0.35,\n",
       "   'classifier_decision': ['5', 'x', '2', '0', 'x', '4', 'x', 'x', 'x', '3']},\n",
       "  15000: {'score': 0.42875,\n",
       "   'classifier_decision': ['2', 'x', '5', '0', 'x', '4', 'x', 'x', 'x', '3']},\n",
       "  20000: {'score': 0.4625,\n",
       "   'classifier_decision': ['0', 'x', '5', '1', 'x', '4', 'x', 'x', 'x', '3']},\n",
       "  25000: {'score': 0.4975,\n",
       "   'classifier_decision': ['0', 'x', '5', '3', 'x', '4', 'x', 'x', 'x', '3']},\n",
       "  30000: {'score': 0.51,\n",
       "   'classifier_decision': ['0', 'x', '5', '1', 'x', '4', 'x', 'x', 'x', '3']},\n",
       "  35000: {'score': 0.45875,\n",
       "   'classifier_decision': ['0', 'x', '5', '0', 'x', '4', 'x', 'x', 'x', '3']},\n",
       "  40000: {'score': 0.525,\n",
       "   'classifier_decision': ['2', 'x', '5', '0', 'x', '4', 'x', 'x', 'x', '1']},\n",
       "  45000: {'score': 0.6125,\n",
       "   'classifier_decision': ['2', 'x', '5', '3', 'x', '4', 'x', 'x', 'x', '0']},\n",
       "  50000: {'score': 0.56625,\n",
       "   'classifier_decision': ['0', 'x', '5', '3', 'x', '4', 'x', 'x', 'x', '0']}}}"
      ]
     },
     "execution_count": 33,
     "metadata": {},
     "output_type": "execute_result"
    }
   ],
   "source": [
    "import os\n",
    "import torch\n",
    "torch.load('checkpoint/cdsprites_opt2/result.metric')"
   ]
  }
 ],
 "metadata": {
  "kernelspec": {
   "display_name": "Python 3",
   "language": "python",
   "name": "python3"
  },
  "language_info": {
   "codemirror_mode": {
    "name": "ipython",
    "version": 3
   },
   "file_extension": ".py",
   "mimetype": "text/x-python",
   "name": "python",
   "nbconvert_exporter": "python",
   "pygments_lexer": "ipython3",
   "version": "3.6.8"
  }
 },
 "nbformat": 4,
 "nbformat_minor": 2
}
